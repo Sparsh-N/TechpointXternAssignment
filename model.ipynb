{
 "cells": [
  {
   "cell_type": "code",
   "execution_count": 2,
   "metadata": {},
   "outputs": [],
   "source": [
    "import numpy as np\n",
    "import pandas as pd\n",
    "#import matplotlib.pyplot as plt\n"
   ]
  },
  {
   "cell_type": "code",
   "execution_count": 3,
   "metadata": {},
   "outputs": [],
   "source": [
    "df = pd.read_csv('Train_Data.csv')"
   ]
  },
  {
   "cell_type": "code",
   "execution_count": 4,
   "metadata": {},
   "outputs": [
    {
     "data": {
      "text/html": [
       "<div>\n",
       "<style scoped>\n",
       "    .dataframe tbody tr th:only-of-type {\n",
       "        vertical-align: middle;\n",
       "    }\n",
       "\n",
       "    .dataframe tbody tr th {\n",
       "        vertical-align: top;\n",
       "    }\n",
       "\n",
       "    .dataframe thead th {\n",
       "        text-align: right;\n",
       "    }\n",
       "</style>\n",
       "<table border=\"1\" class=\"dataframe\">\n",
       "  <thead>\n",
       "    <tr style=\"text-align: right;\">\n",
       "      <th></th>\n",
       "      <th>Year</th>\n",
       "      <th>Major</th>\n",
       "      <th>University</th>\n",
       "      <th>Time</th>\n",
       "      <th>Order</th>\n",
       "    </tr>\n",
       "  </thead>\n",
       "  <tbody>\n",
       "    <tr>\n",
       "      <th>0</th>\n",
       "      <td>Year 2</td>\n",
       "      <td>Physics</td>\n",
       "      <td>Indiana State University</td>\n",
       "      <td>12</td>\n",
       "      <td>Fried Catfish Basket</td>\n",
       "    </tr>\n",
       "    <tr>\n",
       "      <th>1</th>\n",
       "      <td>Year 3</td>\n",
       "      <td>Chemistry</td>\n",
       "      <td>Ball State University</td>\n",
       "      <td>14</td>\n",
       "      <td>Sugar Cream Pie</td>\n",
       "    </tr>\n",
       "    <tr>\n",
       "      <th>2</th>\n",
       "      <td>Year 3</td>\n",
       "      <td>Chemistry</td>\n",
       "      <td>Butler University</td>\n",
       "      <td>12</td>\n",
       "      <td>Indiana Pork Chili</td>\n",
       "    </tr>\n",
       "    <tr>\n",
       "      <th>3</th>\n",
       "      <td>Year 2</td>\n",
       "      <td>Biology</td>\n",
       "      <td>Indiana State University</td>\n",
       "      <td>11</td>\n",
       "      <td>Fried Catfish Basket</td>\n",
       "    </tr>\n",
       "    <tr>\n",
       "      <th>4</th>\n",
       "      <td>Year 3</td>\n",
       "      <td>Business Administration</td>\n",
       "      <td>Butler University</td>\n",
       "      <td>12</td>\n",
       "      <td>Indiana Corn on the Cob (brushed with garlic b...</td>\n",
       "    </tr>\n",
       "  </tbody>\n",
       "</table>\n",
       "</div>"
      ],
      "text/plain": [
       "     Year                    Major                University  Time  \\\n",
       "0  Year 2                  Physics  Indiana State University    12   \n",
       "1  Year 3                Chemistry     Ball State University    14   \n",
       "2  Year 3                Chemistry         Butler University    12   \n",
       "3  Year 2                  Biology  Indiana State University    11   \n",
       "4  Year 3  Business Administration         Butler University    12   \n",
       "\n",
       "                                               Order  \n",
       "0                               Fried Catfish Basket  \n",
       "1                                    Sugar Cream Pie  \n",
       "2                                 Indiana Pork Chili  \n",
       "3                               Fried Catfish Basket  \n",
       "4  Indiana Corn on the Cob (brushed with garlic b...  "
      ]
     },
     "execution_count": 4,
     "metadata": {},
     "output_type": "execute_result"
    }
   ],
   "source": [
    "df.head()"
   ]
  }
 ],
 "metadata": {
  "kernelspec": {
   "display_name": "Python 3",
   "language": "python",
   "name": "python3"
  },
  "language_info": {
   "codemirror_mode": {
    "name": "ipython",
    "version": 3
   },
   "file_extension": ".py",
   "mimetype": "text/x-python",
   "name": "python",
   "nbconvert_exporter": "python",
   "pygments_lexer": "ipython3",
   "version": "3.10.6"
  }
 },
 "nbformat": 4,
 "nbformat_minor": 2
}
